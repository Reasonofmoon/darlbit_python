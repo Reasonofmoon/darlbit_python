{
  "cells": [
    {
      "cell_type": "markdown",
      "metadata": {
        "id": "view-in-github",
        "colab_type": "text"
      },
      "source": [
        "<a href=\"https://colab.research.google.com/github/Reasonofmoon/darlbit_python/blob/main/2_6_json.ipynb\" target=\"_parent\"><img src=\"https://colab.research.google.com/assets/colab-badge.svg\" alt=\"Open In Colab\"/></a>"
      ]
    },
    {
      "cell_type": "code",
      "metadata": {
        "id": "F-2ydRN2DI1o"
      },
      "source": [
        "# 환경 설정 및 필요한 함수 정의\n",
        "import numpy as np\n",
        "import pandas as pd\n",
        "import matplotlib.pyplot as plt\n",
        "\n",
        "def check_answer(problem_func, correct_answer, feedback, show_answer=False):\n",
        "    user_answer = problem_func()\n",
        "    if user_answer == correct_answer:\n",
        "        print(\"정답입니다! 잘 하셨습니다.\")\n",
        "    else:\n",
        "        print(f\"틀렸습니다. 다시 시도해보세요.\")\n",
        "        print(f\"힌트: {feedback}\")\n",
        "    if show_answer:\n",
        "        print(f\"정답: {correct_answer}\")\n",
        "    return user_answer == correct_answer"
      ],
      "execution_count": 1,
      "outputs": []
    },
    {
      "cell_type": "markdown",
      "metadata": {
        "id": "WUJ_PcINDI1p"
      },
      "source": [
        "# How Python Runs Programs\n",
        "## Python Implementation Alternatives\n",
        "\n",
        "파이썬의 다양한 구현 방법에 대해 알아봅시다. CPython, Jython, IronPython 등 여러 파이썬 구현체의 특징과 차이점을 살펴봅시다.\n",
        "### 학습 목표:\n",
        "- 다양한 파이썬 구현체의 특징을 이해합니다.\n",
        "- 각 구현체의 장단점을 비교합니다."
      ]
    },
    {
      "cell_type": "code",
      "metadata": {
        "colab": {
          "base_uri": "https://localhost:8080/"
        },
        "id": "4_SQuE6BDI1q",
        "outputId": "dd82a2bc-6564-4602-bc9c-4a11731cc4fe"
      },
      "source": [
        "# 예제 코드: CPython vs Jython\n",
        "print(\"This code runs on CPython\")\n",
        "# Jython에서는 Java 클래스와 상호작용할 수 있습니다.\n",
        "# from java.util import Date\n",
        "# print(Date())"
      ],
      "execution_count": 2,
      "outputs": [
        {
          "output_type": "stream",
          "name": "stdout",
          "text": [
            "This code runs on CPython\n"
          ]
        }
      ]
    },
    {
      "cell_type": "markdown",
      "metadata": {
        "id": "Bwqo5x80DI1q"
      },
      "source": [
        "## 실습 문제\n",
        "\n",
        "문제 1: CPython과 Jython의 차이점을 설명하는 프로그램을 작성하세요."
      ]
    },
    {
      "cell_type": "code",
      "metadata": {
        "colab": {
          "base_uri": "https://localhost:8080/"
        },
        "id": "gmL2KLI7DI1q",
        "outputId": "6c97ef45-8c87-442e-b8cd-98ce00cf8a8e"
      },
      "source": [
        "def problem_1():\n",
        "    # 여기에 코드를 작성하세요\n",
        "    cpython = \"CPython: 기본적인 파이썬 구현체로, C로 작성되었습니다. 대부분의 파이썬 개발자가 사용합니다.\"\n",
        "    jython = \"Jython: 자바로 작성된 파이썬 구현체로, 자바 클래스와의 상호작용이 가능합니다.\"\n",
        "    return cpython, jython\n",
        "\n",
        "# 실행 및 테스트\n",
        "check_answer(problem_1, (\"CPython: 기본적인 파이썬 구현체로, C로 작성되었습니다. 대부분의 파이썬 개발자가 사용합니다.\", \"Jython: 자바로 작성된 파이썬 구현체로, 자바 클래스와의 상호작용이 가능합니다.\"), \"CPython과 Jython의 차이점을 설명하세요.\")"
      ],
      "execution_count": 3,
      "outputs": [
        {
          "output_type": "stream",
          "name": "stdout",
          "text": [
            "정답입니다! 잘 하셨습니다.\n"
          ]
        },
        {
          "output_type": "execute_result",
          "data": {
            "text/plain": [
              "True"
            ]
          },
          "metadata": {},
          "execution_count": 3
        }
      ]
    },
    {
      "cell_type": "code",
      "source": [],
      "metadata": {
        "id": "czwLr92JDO48"
      },
      "execution_count": null,
      "outputs": []
    }
  ],
  "metadata": {
    "colab": {
      "provenance": [],
      "include_colab_link": true
    },
    "kernelspec": {
      "name": "python3",
      "display_name": "Python 3"
    },
    "language_info": {
      "name": "python"
    }
  },
  "nbformat": 4,
  "nbformat_minor": 0
}
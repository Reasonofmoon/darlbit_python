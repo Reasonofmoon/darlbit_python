{
  "cells": [
    {
      "cell_type": "markdown",
      "metadata": {
        "id": "view-in-github",
        "colab_type": "text"
      },
      "source": [
        "<a href=\"https://colab.research.google.com/github/Reasonofmoon/darlbit_python/blob/main/Colaboratory%EC%97%90_%EC%98%A4%EC%8B%A0_%EA%B2%83%EC%9D%84_%ED%99%98%EC%98%81%ED%95%A9%EB%8B%88%EB%8B%A4%EC%9D%98_%EC%82%AC%EB%B3%B8.ipynb\" target=\"_parent\"><img src=\"https://colab.research.google.com/assets/colab-badge.svg\" alt=\"Open In Colab\"/></a>"
      ]
    },
    {
      "cell_type": "markdown",
      "source": [
        "## 파이썬 실습 안내 페이지\n",
        "\n",
        "### 1. 런타임 연결 및 환경 설정\n",
        "\n",
        "- **런타임 연결:** 상단 메뉴에서 **런타임 -> 런타임 연결**을 클릭하여 Colab 가상 머신에 연결합니다. 연결되면 좌측 상단에 녹색 체크 표시가 나타납니다.\n",
        "\n",
        "- **환경 설정 셀 실행:**  필요한 라이브러리 설치 및 설정을 위한 코드 셀을 찾아 **실행 버튼(▶️)** 을 클릭하거나 **Ctrl+Enter** 를 눌러 실행합니다.\n",
        "\n",
        "### 2. 코드 입력 및 실행\n",
        "\n",
        "- **코드 셀:** 회색 배경의 코드 셀에 Python 코드를 입력합니다.\n",
        "- **실행:** 코드 셀 좌측의 **실행 버튼(▶️)** 을 클릭하거나 **Ctrl+Enter** 를 눌러 코드를 실행합니다.\n",
        "- **결과 확인:** 실행 결과는 코드 셀 아래에 출력됩니다.\n",
        "\n",
        "### 3. 유용한 단축키\n",
        "\n",
        "- **새 코드 셀 추가:** **Ctrl+M B**\n",
        "- **코드 셀 위에 셀 추가:** **Ctrl+M A**\n",
        "- **코드 셀 삭제:** **Ctrl+M D**\n",
        "- **코드 실행:** **Ctrl+Enter**\n",
        "- **코드 실행 및 다음 셀 선택:** **Shift+Enter**\n",
        "- **주석 처리/해제:** **Ctrl+/**\n",
        "\n",
        "### 4. 추가 정보\n",
        "\n",
        "- **Colab 소개:** [Colab 소개 영상](https://www.youtube.com/watch?v=inN8seMm7UI)을 참고하세요.\n",
        "- **Colab 기능:** [Colab 개요](/notebooks/basic_features_overview.ipynb)에서 다양한 기능을 확인할 수 있습니다.\n",
        "\n",
        "### 5. 질문 및 도움\n",
        "\n",
        "- 실습 중 궁금한 점은 질문 게시판이나 채팅을 통해 문의하세요.\n",
        "\n",
        "---\n",
        "\n",
        "**참고:** 위 링크는 실제 동작하지 않습니다. Colab 환경에 맞게 링크를 수정해야 합니다.\n",
        "\n",
        "This might be slightly inaccurate, but try the following:\n",
        "- 런타임 연결: 상단 메뉴의 \"런타임\" 탭에서 \"런타임 연결\"을 클릭하세요.\n",
        "- 환경 설정 셀 실행:  환경 설정 코드 셀을 찾아 왼쪽의 실행 버튼을 클릭하세요."
      ],
      "metadata": {
        "id": "-eISdc9H7yMp"
      }
    },
    {
      "cell_type": "markdown",
      "source": [
        "## 새 섹션"
      ],
      "metadata": {
        "id": "JChvZsXr8KDn"
      }
    }
  ],
  "metadata": {
    "colab": {
      "toc_visible": true,
      "provenance": [],
      "include_colab_link": true
    },
    "kernelspec": {
      "display_name": "Python 3",
      "name": "python3"
    }
  },
  "nbformat": 4,
  "nbformat_minor": 0
}
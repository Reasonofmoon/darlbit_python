{
  "cells": [
    {
      "cell_type": "markdown",
      "metadata": {
        "id": "view-in-github",
        "colab_type": "text"
      },
      "source": [
        "<a href=\"https://colab.research.google.com/github/Reasonofmoon/darlbit_python/blob/main/2_8_json.ipynb\" target=\"_parent\"><img src=\"https://colab.research.google.com/assets/colab-badge.svg\" alt=\"Open In Colab\"/></a>"
      ]
    },
    {
      "cell_type": "code",
      "metadata": {
        "id": "I05doSddFArB"
      },
      "source": [
        "# 환경 설정 및 필요한 함수 정의\n",
        "import numpy as np\n",
        "import pandas as pd\n",
        "import matplotlib.pyplot as plt\n",
        "\n",
        "def check_answer(problem_func, correct_answer, feedback, show_answer=False):\n",
        "    user_answer = problem_func()\n",
        "    if user_answer == correct_answer:\n",
        "        print(\"정답입니다! 잘 하셨습니다.\")\n",
        "    else:\n",
        "        print(f\"틀렸습니다. 다시 시도해보세요.\")\n",
        "        print(f\"힌트: {feedback}\")\n",
        "    if show_answer:\n",
        "        print(f\"정답: {correct_answer}\")\n",
        "    return user_answer == correct_answer"
      ],
      "execution_count": 1,
      "outputs": []
    },
    {
      "cell_type": "markdown",
      "metadata": {
        "id": "VqvdweTCFArD"
      },
      "source": [
        "# How Python Runs Programs\n",
        "## Frozen Binaries\n",
        "\n",
        "동결된 바이너리(frozen binary)에 대해 알아봅시다. 파이썬 스크립트를 실행 파일로 변환하는 방법과 그 장단점을 살펴보겠습니다.\n",
        "### 학습 목표:\n",
        "- 파이썬 스크립트를 실행 파일로 변환하는 과정을 이해합니다.\n",
        "- 실행 파일의 장단점을 이해합니다."
      ]
    },
    {
      "cell_type": "code",
      "metadata": {
        "id": "KjB1aMdQFArE"
      },
      "source": [
        "# 예제 코드: pyinstaller 사용\n",
        "# !pyinstaller --onefile your_script.py"
      ],
      "execution_count": null,
      "outputs": []
    },
    {
      "cell_type": "markdown",
      "metadata": {
        "id": "Si9-EDOoFArF"
      },
      "source": [
        "## 실습 문제\n",
        "\n",
        "문제 1: `pyinstaller`를 사용하여 간단한 파이썬 스크립트를 실행 파일로 변환하는 명령을 작성하세요."
      ]
    },
    {
      "cell_type": "code",
      "metadata": {
        "colab": {
          "base_uri": "https://localhost:8080/"
        },
        "id": "HN129in5FArF",
        "outputId": "5d611741-50db-4d02-89df-5f32fcefe84a"
      },
      "source": [
        "def problem_1():\n",
        "    # 여기에 코드를 작성하세요\n",
        "    command = \"pyinstaller --onefile simple_script.py\"\n",
        "    return command\n",
        "\n",
        "# 실행 및 테스트\n",
        "check_answer(problem_1, \"pyinstaller --onefile simple_script.py\", \"`pyinstaller`를 사용하여 스크립트를 실행 파일로 변환하는 명령을 작성하세요.\")"
      ],
      "execution_count": 2,
      "outputs": [
        {
          "output_type": "stream",
          "name": "stdout",
          "text": [
            "정답입니다! 잘 하셨습니다.\n"
          ]
        },
        {
          "output_type": "execute_result",
          "data": {
            "text/plain": [
              "True"
            ]
          },
          "metadata": {},
          "execution_count": 2
        }
      ]
    },
    {
      "cell_type": "code",
      "source": [],
      "metadata": {
        "id": "w8yTfsCFFHGt"
      },
      "execution_count": null,
      "outputs": []
    }
  ],
  "metadata": {
    "colab": {
      "provenance": [],
      "include_colab_link": true
    },
    "kernelspec": {
      "name": "python3",
      "display_name": "Python 3"
    },
    "language_info": {
      "name": "python"
    }
  },
  "nbformat": 4,
  "nbformat_minor": 0
}
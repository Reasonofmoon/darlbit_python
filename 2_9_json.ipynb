{
  "cells": [
    {
      "cell_type": "markdown",
      "metadata": {
        "id": "view-in-github",
        "colab_type": "text"
      },
      "source": [
        "<a href=\"https://colab.research.google.com/github/Reasonofmoon/darlbit_python/blob/main/2_9_json.ipynb\" target=\"_parent\"><img src=\"https://colab.research.google.com/assets/colab-badge.svg\" alt=\"Open In Colab\"/></a>"
      ]
    },
    {
      "cell_type": "code",
      "metadata": {
        "id": "uFNkct9dFZ20"
      },
      "source": [
        "# 환경 설정 및 필요한 함수 정의\n",
        "import numpy as np\n",
        "import pandas as pd\n",
        "import matplotlib.pyplot as plt\n",
        "\n",
        "def check_answer(problem_func, correct_answer, feedback, show_answer=False):\n",
        "    user_answer = problem_func()\n",
        "    if user_answer == correct_answer:\n",
        "        print(\"정답입니다! 잘 하셨습니다.\")\n",
        "    else:\n",
        "        print(f\"틀렸습니다. 다시 시도해보세요.\")\n",
        "        print(f\"힌트: {feedback}\")\n",
        "    if show_answer:\n",
        "        print(f\"정답: {correct_answer}\")\n",
        "    return user_answer == correct_answer"
      ],
      "execution_count": 1,
      "outputs": []
    },
    {
      "cell_type": "markdown",
      "metadata": {
        "id": "UTuR6MOPFZ21"
      },
      "source": [
        "# How Python Runs Programs\n",
        "## Other Execution Options\n",
        "\n",
        "파이썬 코드를 실행하는 다른 방법들에 대해 알아봅시다. 웹 브라우저에서 실행하거나, 클라우드 환경에서 실행하는 방법 등을 살펴보겠습니다.\n",
        "### 학습 목표:\n",
        "- 파이썬 코드를 실행하는 다양한 방법을 이해합니다.\n",
        "- 각각의 실행 방법의 장단점을 이해합니다."
      ]
    },
    {
      "cell_type": "code",
      "metadata": {
        "colab": {
          "base_uri": "https://localhost:8080/"
        },
        "id": "JdcPkWx8FZ22",
        "outputId": "f6012dba-f461-4551-9d72-c3e0233cd021"
      },
      "source": [
        "# 예제 코드: Jupyter Notebook에서 실행\n",
        "print(\"This code runs in a Jupyter Notebook\")"
      ],
      "execution_count": 2,
      "outputs": [
        {
          "output_type": "stream",
          "name": "stdout",
          "text": [
            "This code runs in a Jupyter Notebook\n"
          ]
        }
      ]
    },
    {
      "cell_type": "markdown",
      "metadata": {
        "id": "SDwrr2zVFZ22"
      },
      "source": [
        "## 실습 문제\n",
        "\n",
        "문제 1: Google Colab에서 파이썬 코드를 실행하는 방법을 설명하세요."
      ]
    },
    {
      "cell_type": "code",
      "metadata": {
        "colab": {
          "base_uri": "https://localhost:8080/"
        },
        "id": "pNkq7ALuFZ22",
        "outputId": "2a8778b0-619d-4df0-acbd-2d14d81f96e9"
      },
      "source": [
        "def problem_1():\n",
        "    # 여기에 코드를 작성하세요\n",
        "    colab_execution = \"Google Colab에서 파이썬 코드를 실행하려면 colab.research.google.com에 접속하여 새 노트북을 생성합니다. 그런 다음 코드 셀에 파이썬 코드를 입력하고 실행 버튼을 누르면 됩니다.\"\n",
        "    return colab_execution\n",
        "\n",
        "# 실행 및 테스트\n",
        "check_answer(problem_1, \"Google Colab에서 파이썬 코드를 실행하려면 colab.research.google.com에 접속하여 새 노트북을 생성합니다. 그런 다음 코드 셀에 파이썬 코드를 입력하고 실행 버튼을 누르면 됩니다.\", \"Google Colab에서 파이썬 코드를 실행하는 방법을 설명하세요.\")"
      ],
      "execution_count": 3,
      "outputs": [
        {
          "output_type": "stream",
          "name": "stdout",
          "text": [
            "정답입니다! 잘 하셨습니다.\n"
          ]
        },
        {
          "output_type": "execute_result",
          "data": {
            "text/plain": [
              "True"
            ]
          },
          "metadata": {},
          "execution_count": 3
        }
      ]
    },
    {
      "cell_type": "code",
      "source": [],
      "metadata": {
        "id": "LUF5rfpGFe0z"
      },
      "execution_count": null,
      "outputs": []
    }
  ],
  "metadata": {
    "colab": {
      "provenance": [],
      "include_colab_link": true
    },
    "kernelspec": {
      "name": "python3",
      "display_name": "Python 3"
    },
    "language_info": {
      "name": "python"
    }
  },
  "nbformat": 4,
  "nbformat_minor": 0
}
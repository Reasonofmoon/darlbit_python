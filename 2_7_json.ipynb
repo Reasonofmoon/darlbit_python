{
  "cells": [
    {
      "cell_type": "markdown",
      "metadata": {
        "id": "view-in-github",
        "colab_type": "text"
      },
      "source": [
        "<a href=\"https://colab.research.google.com/github/Reasonofmoon/darlbit_python/blob/main/2_7_json.ipynb\" target=\"_parent\"><img src=\"https://colab.research.google.com/assets/colab-badge.svg\" alt=\"Open In Colab\"/></a>"
      ]
    },
    {
      "cell_type": "code",
      "metadata": {
        "id": "v-KFdaRpDg4f"
      },
      "source": [
        "# 환경 설정 및 필요한 함수 정의\n",
        "import numpy as np\n",
        "import pandas as pd\n",
        "import matplotlib.pyplot as plt\n",
        "\n",
        "def check_answer(problem_func, correct_answer, feedback, show_answer=False):\n",
        "    user_answer = problem_func()\n",
        "    if user_answer == correct_answer:\n",
        "        print(\"정답입니다! 잘 하셨습니다.\")\n",
        "    else:\n",
        "        print(f\"틀렸습니다. 다시 시도해보세요.\")\n",
        "        print(f\"힌트: {feedback}\")\n",
        "    if show_answer:\n",
        "        print(f\"정답: {correct_answer}\")\n",
        "    return user_answer == correct_answer"
      ],
      "execution_count": 1,
      "outputs": []
    },
    {
      "cell_type": "markdown",
      "metadata": {
        "id": "xnc18DbdDg4g"
      },
      "source": [
        "# How Python Runs Programs\n",
        "## Execution Optimization Tools\n",
        "\n",
        "파이썬 코드 실행을 최적화하기 위한 다양한 도구들에 대해 알아봅시다. 프로파일러, JIT 컴파일러, 코드 최적화 도구 등을 살펴보겠습니다.\n",
        "### 학습 목표:\n",
        "- 파이썬 코드의 성능을 분석하고 최적화하는 방법을 이해합니다.\n",
        "- 다양한 최적화 도구의 사용법을 익힙니다."
      ]
    },
    {
      "cell_type": "code",
      "metadata": {
        "colab": {
          "base_uri": "https://localhost:8080/"
        },
        "id": "JA557jDjDg4h",
        "outputId": "738556c9-4033-4c76-a6ab-7bfc15cc7edb"
      },
      "source": [
        "# 예제 코드: timeit 모듈 사용\n",
        "import timeit\n",
        "\n",
        "def test():\n",
        "    return sum(range(100))\n",
        "\n",
        "print(timeit.timeit(test, number=1000))"
      ],
      "execution_count": 2,
      "outputs": [
        {
          "output_type": "stream",
          "name": "stdout",
          "text": [
            "0.004733148999989112\n"
          ]
        }
      ]
    },
    {
      "cell_type": "markdown",
      "metadata": {
        "id": "AxXvG3VUDg4h"
      },
      "source": [
        "## 실습 문제\n",
        "\n",
        "# 문제 1: 주어진 리스트에서 짝수만 추출하는 함수를 작성하고, timeit 모듈을 사용하여 성능을 측정하세요."
      ]
    },
    {
      "source": [
        "def problem_2():\n",
        "    import timeit\n",
        "\n",
        "    def extract_even(numbers):\n",
        "        even_numbers = []\n",
        "        for number in numbers:\n",
        "            if number % 2 == 0:\n",
        "                even_numbers.append(number)\n",
        "        return even_numbers\n",
        "\n",
        "    test_list = list(range(1000))\n",
        "    execution_time = timeit.timeit(lambda: extract_even(test_list), number=1000)\n",
        "    return execution_time\n",
        "\n",
        "# 실행 및 테스트 (정답은 실행 환경에 따라 달라질 수 있습니다.)\n",
        "result = check_answer(problem_2, problem_2(), \"주어진 리스트에서 짝수만 추출하는 함수의 성능을 측정하세요.\")\n",
        "\n",
        "if result:\n",
        "    print(\"정답입니다! 축하합니다.\")\n",
        "elif not result:\n",
        "    print(\"힌트: 리스트 컴프리헨션을 사용하면 더 효율적으로 짝수를 추출할 수 있습니다.\")\n",
        "    print(\"예시:\")\n",
        "    print(\"def extract_even(numbers):\")\n",
        "    print(\"    return [number for number in numbers if number % 2 == 0]\")"
      ],
      "cell_type": "code",
      "metadata": {
        "colab": {
          "base_uri": "https://localhost:8080/"
        },
        "id": "O_SI3eYvEhw2",
        "outputId": "fe98bafc-1558-45f6-f41c-91d5681e77a9"
      },
      "execution_count": 10,
      "outputs": [
        {
          "output_type": "stream",
          "name": "stdout",
          "text": [
            "틀렸습니다. 다시 시도해보세요.\n",
            "힌트: 주어진 리스트에서 짝수만 추출하는 함수의 성능을 측정하세요.\n",
            "힌트: 리스트 컴프리헨션을 사용하면 더 효율적으로 짝수를 추출할 수 있습니다.\n",
            "예시:\n",
            "def extract_even(numbers):\n",
            "    return [number for number in numbers if number % 2 == 0]\n"
          ]
        }
      ]
    }
  ],
  "metadata": {
    "colab": {
      "provenance": [],
      "include_colab_link": true
    },
    "kernelspec": {
      "name": "python3",
      "display_name": "Python 3"
    },
    "language_info": {
      "name": "python"
    }
  },
  "nbformat": 4,
  "nbformat_minor": 0
}
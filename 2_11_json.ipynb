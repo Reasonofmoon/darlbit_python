{
  "cells": [
    {
      "cell_type": "markdown",
      "metadata": {
        "id": "view-in-github",
        "colab_type": "text"
      },
      "source": [
        "<a href=\"https://colab.research.google.com/github/Reasonofmoon/darlbit_python/blob/main/2_11_json.ipynb\" target=\"_parent\"><img src=\"https://colab.research.google.com/assets/colab-badge.svg\" alt=\"Open In Colab\"/></a>"
      ]
    },
    {
      "cell_type": "code",
      "metadata": {
        "id": "qcykGdwDGAZs"
      },
      "source": [
        "# 환경 설정 및 필요한 함수 정의\n",
        "import numpy as np\n",
        "import pandas as pd\n",
        "import matplotlib.pyplot as plt\n",
        "\n",
        "def check_answer(problem_func, correct_answer, feedback, show_answer=False):\n",
        "    user_answer = problem_func()\n",
        "    if user_answer == correct_answer:\n",
        "        print(\"정답입니다! 잘 하셨습니다.\")\n",
        "    else:\n",
        "        print(f\"틀렸습니다. 다시 시도해보세요.\")\n",
        "        print(f\"힌트: {feedback}\")\n",
        "    if show_answer:\n",
        "        print(f\"정답: {correct_answer}\")\n",
        "    return user_answer == correct_answer"
      ],
      "execution_count": null,
      "outputs": []
    },
    {
      "cell_type": "markdown",
      "metadata": {
        "id": "uHd1vhdJGAZy"
      },
      "source": [
        "# How Python Runs Programs\n",
        "## Chapter Summary\n",
        "\n",
        "이번 장에서는 파이썬 프로그램의 실행 과정과 다양한 실행 방법에 대해 학습했습니다. 파이썬 인터프리터, 프로그램 실행, 프로그래머와 파이썬의 관점, 실행 모델 변형, 다양한 파이썬 구현체, 실행 최적화 도구, 동결된 바이너리, 다른 실행 옵션, 그리고 파이썬의 미래 가능성에 대해 알아보았습니다.\n",
        "### 학습 목표:\n",
        "- 파이썬 프로그램의 실행 과정과 다양한 방법을 이해했습니다.\n",
        "- 파이썬의 미래 가능성에 대해 생각해보았습니다."
      ]
    }
  ],
  "metadata": {
    "colab": {
      "provenance": [],
      "include_colab_link": true
    },
    "kernelspec": {
      "name": "python3",
      "display_name": "Python 3"
    },
    "language_info": {
      "name": "python"
    }
  },
  "nbformat": 4,
  "nbformat_minor": 0
}
{
  "cells": [
    {
      "cell_type": "markdown",
      "metadata": {
        "id": "view-in-github",
        "colab_type": "text"
      },
      "source": [
        "<a href=\"https://colab.research.google.com/github/Reasonofmoon/darlbit_python/blob/main/2_10_json.ipynb\" target=\"_parent\"><img src=\"https://colab.research.google.com/assets/colab-badge.svg\" alt=\"Open In Colab\"/></a>"
      ]
    },
    {
      "cell_type": "code",
      "metadata": {
        "id": "plq6QJTHFsfB"
      },
      "source": [
        "# 환경 설정 및 필요한 함수 정의\n",
        "import numpy as np\n",
        "import pandas as pd\n",
        "import matplotlib.pyplot as plt\n",
        "\n",
        "def check_answer(problem_func, correct_answer, feedback, show_answer=False):\n",
        "    user_answer = problem_func()\n",
        "    if user_answer == correct_answer:\n",
        "        print(\"정답입니다! 잘 하셨습니다.\")\n",
        "    else:\n",
        "        print(f\"틀렸습니다. 다시 시도해보세요.\")\n",
        "        print(f\"힌트: {feedback}\")\n",
        "    if show_answer:\n",
        "        print(f\"정답: {correct_answer}\")\n",
        "    return user_answer == correct_answer"
      ],
      "execution_count": 1,
      "outputs": []
    },
    {
      "cell_type": "markdown",
      "metadata": {
        "id": "_KGwWp6jFsfC"
      },
      "source": [
        "# How Python Runs Programs\n",
        "## Future Possibilities?\n",
        "\n",
        "파이썬의 미래 가능성에 대해 알아봅시다. 파이썬의 발전 방향과 앞으로 기대할 수 있는 기능들에 대해 생각해봅시다.\n",
        "### 학습 목표:\n",
        "- 파이썬의 미래 가능성을 이해합니다.\n",
        "- 파이썬의 발전 방향에 대해 생각해봅니다."
      ]
    },
    {
      "cell_type": "code",
      "metadata": {
        "colab": {
          "base_uri": "https://localhost:8080/"
        },
        "id": "6pWHuMDUFsfD",
        "outputId": "2e318e92-3fe8-4835-ad3b-69f351f518da"
      },
      "source": [
        "# 예제 코드: 미래의 파이썬\n",
        "print(\"Exploring future possibilities of Python\")"
      ],
      "execution_count": 2,
      "outputs": [
        {
          "output_type": "stream",
          "name": "stdout",
          "text": [
            "Exploring future possibilities of Python\n"
          ]
        }
      ]
    },
    {
      "cell_type": "markdown",
      "metadata": {
        "id": "-t76K5m9FsfD"
      },
      "source": [
        "## 실습 문제\n",
        "\n",
        "문제 1: 파이썬의 미래에 추가되었으면 하는 기능을 하나 작성하고, 그 이유를 설명하세요."
      ]
    },
    {
      "cell_type": "code",
      "metadata": {
        "colab": {
          "base_uri": "https://localhost:8080/"
        },
        "id": "hrr8dp0qFsfD",
        "outputId": "77c8ba2c-628f-498a-fbdd-5ce94e8c886a"
      },
      "source": [
        "def problem_1():\n",
        "    # 여기에 코드를 작성하세요\n",
        "    future_feature = \"더 나은 병렬 처리 지원: 병렬 처리를 더욱 쉽게 구현할 수 있는 기능이 추가되면, 파이썬의 성능이 더욱 향상될 것입니다.\"\n",
        "    return future_feature\n",
        "\n",
        "# 실행 및 테스트\n",
        "check_answer(problem_1, \"더 나은 병렬 처리 지원: 병렬 처리를 더욱 쉽게 구현할 수 있는 기능이 추가되면, 파이썬의 성능이 더욱 향상될 것입니다.\", \"파이썬의 미래에 추가되었으면 하는 기능을 하나 작성하고, 그 이유를 설명하세요.\")"
      ],
      "execution_count": 3,
      "outputs": [
        {
          "output_type": "stream",
          "name": "stdout",
          "text": [
            "정답입니다! 잘 하셨습니다.\n"
          ]
        },
        {
          "output_type": "execute_result",
          "data": {
            "text/plain": [
              "True"
            ]
          },
          "metadata": {},
          "execution_count": 3
        }
      ]
    },
    {
      "cell_type": "code",
      "source": [],
      "metadata": {
        "id": "fad1Aa7WFyE-"
      },
      "execution_count": null,
      "outputs": []
    }
  ],
  "metadata": {
    "colab": {
      "provenance": [],
      "include_colab_link": true
    },
    "kernelspec": {
      "name": "python3",
      "display_name": "Python 3"
    },
    "language_info": {
      "name": "python"
    }
  },
  "nbformat": 4,
  "nbformat_minor": 0
}
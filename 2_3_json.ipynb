{
  "cells": [
    {
      "cell_type": "markdown",
      "metadata": {
        "id": "view-in-github",
        "colab_type": "text"
      },
      "source": [
        "<a href=\"https://colab.research.google.com/github/Reasonofmoon/darlbit_python/blob/main/2_3_json.ipynb\" target=\"_parent\"><img src=\"https://colab.research.google.com/assets/colab-badge.svg\" alt=\"Open In Colab\"/></a>"
      ]
    },
    {
      "cell_type": "code",
      "metadata": {
        "id": "Bmd4FA0AB5z4"
      },
      "source": [
        "# 환경 설정 및 필요한 함수 정의\n",
        "import numpy as np\n",
        "import pandas as pd\n",
        "import matplotlib.pyplot as plt\n",
        "\n",
        "def check_answer(problem_func, correct_answer, feedback, show_answer=False):\n",
        "    user_answer = problem_func()\n",
        "    if user_answer == correct_answer:\n",
        "        print(\"정답입니다! 잘 하셨습니다.\")\n",
        "    else:\n",
        "        print(f\"틀렸습니다. 다시 시도해보세요.\")\n",
        "        print(f\"힌트: {feedback}\")\n",
        "    if show_answer:\n",
        "        print(f\"정답: {correct_answer}\")\n",
        "    return user_answer == correct_answer"
      ],
      "execution_count": null,
      "outputs": []
    },
    {
      "cell_type": "markdown",
      "metadata": {
        "id": "-EXbNs8TB5z8"
      },
      "source": [
        "# How Python Runs Programs\n",
        "## The Programmer’s View\n",
        "\n",
        "프로그래머의 관점에서 파이썬 프로그램의 실행 과정을 이해해봅시다. 코드 작성, 디버깅, 실행의 흐름을 살펴보겠습니다.\n",
        "### 학습 목표:\n",
        "- 코드 작성과 디버깅의 기본 원리를 이해합니다.\n",
        "- 파이썬 프로그램의 실행 흐름을 이해하고 관리하는 방법을 익힙니다."
      ]
    },
    {
      "cell_type": "code",
      "metadata": {
        "id": "RA_ULrMxB5z8"
      },
      "source": [
        "# 예제 코드: 디버깅\n",
        "def add_numbers(a, b):\n",
        "    return a + b\n",
        "\n",
        "print(add_numbers(3, 5))\n",
        "\n",
        "# 오류 발생 예제\n",
        "# print(add_numbers(3, 'five'))  # Uncomment to see the error"
      ],
      "execution_count": null,
      "outputs": []
    },
    {
      "cell_type": "markdown",
      "metadata": {
        "id": "E9DwBKYiB5z9"
      },
      "source": [
        "## 실습 문제\n",
        "\n",
        "문제 1: 두 수를 더하는 프로그램을 작성하고, 오류가 발생하지 않도록 처리하세요."
      ]
    },
    {
      "cell_type": "code",
      "metadata": {
        "id": "XdbKcsnQB5z9"
      },
      "source": [
        "def problem_1():\n",
        "    # 여기에 코드를 작성하세요\n",
        "    try:\n",
        "        a = int(input(\"Enter the first number: \"))\n",
        "        b = int(input(\"Enter the second number: \"))\n",
        "        return a + b\n",
        "    except ValueError:\n",
        "        return \"Invalid input, please enter numbers only.\"\n",
        "\n",
        "# 실행 및 테스트\n",
        "check_answer(problem_1, 8, \"두 수를 더하고, 입력이 숫자가 아닐 경우 오류를 처리하세요.\")"
      ],
      "execution_count": null,
      "outputs": []
    }
  ],
  "metadata": {
    "colab": {
      "provenance": [],
      "include_colab_link": true
    },
    "kernelspec": {
      "name": "python3",
      "display_name": "Python 3"
    },
    "language_info": {
      "name": "python"
    }
  },
  "nbformat": 4,
  "nbformat_minor": 0
}
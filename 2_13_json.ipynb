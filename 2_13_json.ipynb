{
  "cells": [
    {
      "cell_type": "markdown",
      "metadata": {
        "id": "view-in-github",
        "colab_type": "text"
      },
      "source": [
        "<a href=\"https://colab.research.google.com/github/Reasonofmoon/darlbit_python/blob/main/2_13_json.ipynb\" target=\"_parent\"><img src=\"https://colab.research.google.com/assets/colab-badge.svg\" alt=\"Open In Colab\"/></a>"
      ]
    },
    {
      "cell_type": "code",
      "metadata": {
        "id": "Rn0I11jnJW0c"
      },
      "source": [
        "# 환경 설정 및 필요한 함수 정의\n",
        "import numpy as np\n",
        "import pandas as pd\n",
        "import matplotlib.pyplot as plt\n",
        "\n",
        "def check_answer(problem_func, correct_answer, feedback, show_answer=False):\n",
        "    user_answer = problem_func()\n",
        "    if user_answer == correct_answer:\n",
        "        print(\"정답입니다! 잘 하셨습니다.\")\n",
        "    else:\n",
        "        print(f\"틀렸습니다. 다시 시도해보세요.\")\n",
        "        print(f\"힌트: {feedback}\")\n",
        "    if show_answer:\n",
        "        print(f\"정답: {correct_answer}\")\n",
        "    return user_answer == correct_answer"
      ],
      "execution_count": null,
      "outputs": []
    },
    {
      "cell_type": "markdown",
      "metadata": {
        "id": "VNw5adpYJW0f"
      },
      "source": [
        "# How Python Runs Programs\n",
        "## Test Your Knowledge: Answers\n",
        "\n",
        "### 문제 1\n",
        "파이썬 인터프리터의 역할은 무엇인가요?\n",
        "- 파이썬 코드를 읽고 실행하는 프로그램입니다.\n",
        "\n",
        "### 문제 2\n",
        "프로그램 실행 중 오류를 처리하는 방법은 무엇인가요?\n",
        "- try-except 블록을 사용하여 오류를 처리할 수 있습니다.\n",
        "\n",
        "### 문제 3\n",
        "CPython과 Jython의 차이점은 무엇인가요?\n",
        "- CPython은 기본적인 파이썬 구현체로, C로 작성되었습니다. Jython은 자바로 작성된 파이썬 구현체로, 자바 클래스와 상호작용이 가능합니다."
      ]
    }
  ],
  "metadata": {
    "colab": {
      "provenance": [],
      "include_colab_link": true
    },
    "kernelspec": {
      "name": "python3",
      "display_name": "Python 3"
    },
    "language_info": {
      "name": "python"
    }
  },
  "nbformat": 4,
  "nbformat_minor": 0
}
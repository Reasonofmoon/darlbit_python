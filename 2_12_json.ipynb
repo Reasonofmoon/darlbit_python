{
  "cells": [
    {
      "cell_type": "markdown",
      "metadata": {
        "id": "view-in-github",
        "colab_type": "text"
      },
      "source": [
        "<a href=\"https://colab.research.google.com/github/Reasonofmoon/darlbit_python/blob/main/2_12_json.ipynb\" target=\"_parent\"><img src=\"https://colab.research.google.com/assets/colab-badge.svg\" alt=\"Open In Colab\"/></a>"
      ]
    },
    {
      "cell_type": "code",
      "metadata": {
        "id": "1c-GX1wrGPEh"
      },
      "source": [
        "# 환경 설정 및 필요한 함수 정의\n",
        "import numpy as np\n",
        "import pandas as pd\n",
        "import matplotlib.pyplot as plt\n",
        "\n",
        "def check_answer(problem_func, correct_answer, feedback, show_answer=False):\n",
        "    user_answer = problem_func()\n",
        "    if user_answer == correct_answer:\n",
        "        print(\"정답입니다! 잘 하셨습니다.\")\n",
        "    else:\n",
        "        print(f\"틀렸습니다. 다시 시도해보세요.\")\n",
        "        print(f\"힌트: {feedback}\")\n",
        "    if show_answer:\n",
        "        print(f\"정답: {correct_answer}\")\n",
        "    return user_answer == correct_answer"
      ],
      "execution_count": null,
      "outputs": []
    },
    {
      "cell_type": "markdown",
      "metadata": {
        "id": "zL7wlAE3GPEi"
      },
      "source": [
        "# How Python Runs Programs\n",
        "## Test Your Knowledge: Quiz\n",
        "\n",
        "이 장에서 배운 내용을 바탕으로 퀴즈를 풀어봅시다.\n"
      ]
    },
    {
      "cell_type": "code",
      "source": [
        "from IPython import get_ipython\n",
        "from IPython.display import display\n",
        "\n",
        "# 환경 설정 및 필요한 함수 정의\n",
        "import numpy as np\n",
        "import pandas as pd\n",
        "import matplotlib.pyplot as plt\n",
        "import random\n",
        "\n",
        "def check_answer(problem_func, correct_answer, feedback, show_answer=False):\n",
        "    try:\n",
        "        user_answer = problem_func()\n",
        "    except Exception as e:\n",
        "        print(f\"오류가 발생했습니다: {e}\")\n",
        "        return False\n",
        "\n",
        "    if user_answer == correct_answer:\n",
        "        print(\"정답입니다! 잘 하셨습니다.\")\n",
        "    else:\n",
        "        print(f\"틀렸습니다. 다시 시도해보세요.\")\n",
        "        print(f\"힌트: {feedback}\")\n",
        "    if show_answer:\n",
        "        print(f\"정답: {correct_answer}\")\n",
        "    return user_answer == correct_answer\n",
        "\n",
        "# 문제 1: 숫자 맞추기 게임\n",
        "def 숫자_맞추기():\n",
        "    정답 = random.randint(1, 100)\n",
        "    count = 0\n",
        "    while True:\n",
        "        try:\n",
        "            사용자_입력값 = int(input(\"1부터 100 사이의 숫자를 입력하세요: \"))\n",
        "            count += 1\n",
        "            if 사용자_입력값 == 정답:\n",
        "                print(f\"정답입니다! {count}번 만에 맞추셨습니다.\")\n",
        "                return True\n",
        "            elif 사용자_입력값 < 정답:\n",
        "                print(\"너무 작습니다. 더 큰 숫자를 입력하세요.\")\n",
        "            else:\n",
        "                print(\"너무 큽니다. 더 작은 숫자를 입력하세요.\")\n",
        "        except ValueError:\n",
        "            print(\"숫자를 입력해야 합니다.\")\n",
        "\n",
        "check_answer(숫자_맞추기, True, \"사용자 입력과 정답을 비교하여 결과를 반환하세요.\")\n",
        "\n",
        "# 문제 2: 구구단 출력\n",
        "def 구구단_출력():\n",
        "    try:\n",
        "        숫자 = int(input(\"숫자를 입력하세요: \"))\n",
        "    except ValueError:\n",
        "        print(\"숫자를 입력해야 합니다.\")\n",
        "        return None\n",
        "    for i in range(1, 10):\n",
        "        print(f\"{숫자} x {i} = {숫자 * i}\")\n",
        "    return None\n",
        "\n",
        "check_answer(구구단_출력, None, \"입력받은 숫자의 구구단을 출력하세요.\")\n",
        "\n",
        "# 문제 3: 리스트 평균 구하기\n",
        "def 리스트_평균(숫자_리스트):\n",
        "    return sum(숫자_리스트) / len(숫자_리스트)\n",
        "\n",
        "check_answer(lambda: 리스트_평균([1, 2, 3, 4, 5]), 3, \"리스트의 합을 길이로 나누어 평균을 구하세요.\")\n",
        "\n",
        "# 문제 4: 최댓값 찾기\n",
        "def 최댓값_찾기(숫자_리스트):\n",
        "    return max(숫자_리스트)\n",
        "\n",
        "check_answer(lambda: 최댓값_찾기([1, 5, 3, 2, 4]), 5, \"리스트를 순회하며 최댓값을 찾으세요.\")\n",
        "\n",
        "# 문제 5: 팩토리얼 계산\n",
        "def 팩토리얼_계산():\n",
        "    try:\n",
        "        숫자 = int(input(\"숫자를 입력하세요: \"))\n",
        "    except ValueError:\n",
        "        print(\"숫자를 입력해야 합니다.\")\n",
        "        return None\n",
        "    result = 1\n",
        "    for i in range(1, 숫자 + 1):\n",
        "        result *= i\n",
        "    return result\n",
        "\n",
        "check_answer(팩토리얼_계산, 120, \"5를 입력하면 120이 반환되어야 합니다.\", show_answer=True)\n",
        "\n",
        "# 문제 6: 문자열 뒤집기\n",
        "def 문자열_뒤집기(문자열):\n",
        "    return 문자열[::-1]\n",
        "\n",
        "check_answer(lambda: 문자열_뒤집기(\"hello\"), \"olleh\", \"문자열 슬라이싱을 활용하세요.\")\n",
        "\n",
        "# 문제 7: 소수 판별\n",
        "def 소수_판별(숫자):\n",
        "    if 숫자 <= 1:\n",
        "        return False\n",
        "    for i in range(2, int(숫자 ** 0.5) + 1):\n",
        "        if 숫자 % i == 0:\n",
        "            return False\n",
        "    return True\n",
        "\n",
        "check_answer(lambda: 소수_판별(7), True, \"2부터 입력받은 숫자까지 나누어 떨어지는지 확인하세요.\")\n",
        "\n",
        "# 문제 8: 피보나치 수열\n",
        "def 피보나치_수열():\n",
        "    try:\n",
        "        숫자 = int(input(\"숫자를 입력하세요: \"))\n",
        "    except ValueError:\n",
        "        print(\"숫자를 입력해야 합니다.\")\n",
        "        return None\n",
        "    a, b = 0, 1\n",
        "    for _ in range(숫자):\n",
        "        print(a, end=\" \")\n",
        "        a, b = b, a + b\n",
        "    print()\n",
        "    return None\n",
        "\n",
        "check_answer(피보나치_수열, None, \"피보나치 수열의 규칙을 이용하여 출력하세요.\")\n",
        "\n",
        "# 문제 9: 파일 읽고 쓰기\n",
        "def 파일_읽고_쓰기():\n",
        "  # 파일 읽기\n",
        "  try:\n",
        "    with open(\"input.txt\", \"r\") as f:\n",
        "      내용 = f.read()\n",
        "      print(내용)\n",
        "  except FileNotFoundError:\n",
        "    print(\"input.txt 파일을 찾을 수 없습니다.\")\n",
        "    return False\n",
        "\n",
        "  # 파일 쓰기\n",
        "  새로운_내용 = \"새로운 파일 내용\"\n",
        "  with open(\"output.txt\", \"w\") as f:\n",
        "    f.write(새로운_내용)\n",
        "  return True\n",
        "\n",
        "check_answer(파일_읽고_쓰기, True, \"input.txt 파일을 읽고 output.txt 파일을 생성하세요.\")\n",
        "\n",
        "# 문제 10: 데이터 분석\n",
        "def 데이터_분석():\n",
        "  try:\n",
        "    df = pd.read_csv(\"data.csv\")  # data.csv 파일이 존재한다고 가정\n",
        "    print(df.describe())\n",
        "    return True\n",
        "  except FileNotFoundError:\n",
        "    print(\"data.csv 파일을 찾을 수 없습니다.\")\n",
        "    return False\n",
        "\n",
        "check_answer(데이터_분석, True, \"pandas를 이용하여 데이터를 읽고 통계 정보를 출력하세요.\")\n"
      ],
      "metadata": {
        "colab": {
          "base_uri": "https://localhost:8080/"
        },
        "id": "yw0P_XWpI6vl",
        "outputId": "4776c680-f105-4a44-9432-a07cc0f7f3ad"
      },
      "execution_count": null,
      "outputs": [
        {
          "output_type": "stream",
          "name": "stdout",
          "text": [
            "1부터 100 사이의 숫자를 입력하세요: 6\n",
            "너무 작습니다. 더 큰 숫자를 입력하세요.\n"
          ]
        }
      ]
    },
    {
      "cell_type": "markdown",
      "source": [
        "1. 숫자 맞추기 게임: 1부터 100 사이의 랜덤 숫자를 생성하고 사용자가 맞출 때까지 입력을 받는 게임을 만드세요."
      ],
      "metadata": {
        "id": "nwTzDlZLG115"
      }
    },
    {
      "source": [
        "import random\n",
        "\n",
        "def 숫자_맞추기():\n",
        "  정답 = random.randint(1, 100)\n",
        "  # 게임 로직 작성\n",
        "  # ...\n",
        "  return 사용자_입력값 == 정답\n",
        "\n",
        "check_answer(숫자_맞추기, True, \"사용자 입력과 정답을 비교하여 결과를 반환하세요.\")"
      ],
      "cell_type": "code",
      "metadata": {
        "id": "WY2g-9E4GoKx"
      },
      "execution_count": null,
      "outputs": []
    },
    {
      "cell_type": "markdown",
      "source": [
        "2. 구구단 출력: 사용자로부터 숫자를 입력받아 해당 숫자의 구구단을 출력하는 함수를 작성하세요."
      ],
      "metadata": {
        "id": "kFDUMuO1G75e"
      }
    },
    {
      "source": [
        "def 구구단_출력():\n",
        "  숫자 = int(input(\"숫자를 입력하세요: \"))\n",
        "  # 구구단 출력 로직 작성\n",
        "  # ...\n",
        "  return None\n",
        "\n",
        "check_answer(구구단_출력, None, \"입력받은 숫자의 구구단을 출력하세요.\")"
      ],
      "cell_type": "code",
      "metadata": {
        "id": "G696u1imGojo"
      },
      "execution_count": null,
      "outputs": []
    },
    {
      "cell_type": "markdown",
      "source": [
        "3. 리스트 평균 구하기: 숫자 리스트를 입력받아 평균을 계산하여 반환하는 함수를 작성하세요."
      ],
      "metadata": {
        "id": "TWX2t_kSG_2z"
      }
    },
    {
      "source": [
        "def 리스트_평균(숫자_리스트):\n",
        "  # 평균 계산 로직 작성\n",
        "  # ...\n",
        "  return 평균값\n",
        "\n",
        "check_answer(lambda: 리스트_평균([1, 2, 3, 4, 5]), 3, \"리스트의 합을 길이로 나누어 평균을 구하세요.\")"
      ],
      "cell_type": "code",
      "metadata": {
        "id": "wHoHzbOCGo8h"
      },
      "execution_count": null,
      "outputs": []
    },
    {
      "cell_type": "markdown",
      "source": [
        "\n",
        "\n",
        "4. 최댓값 찾기: 숫자 리스트를 입력받아 최댓값을 찾아 반환하는 함수를 작성하세요.\n",
        "\n",
        "\n",
        "\n"
      ],
      "metadata": {
        "id": "O3NBE0UNHDMV"
      }
    },
    {
      "source": [
        "def 최댓값_찾기(숫자_리스트):\n",
        "  # 최댓값 찾기 로직 작성\n",
        "  # ...\n",
        "  return 최댓값\n",
        "\n",
        "check_answer(lambda: 최댓값_찾기([1, 5, 3, 2, 4]), 5, \"리스트를 순회하며 최댓값을 찾으세요.\")"
      ],
      "cell_type": "code",
      "metadata": {
        "id": "6YhYjnmfGpWg"
      },
      "execution_count": null,
      "outputs": []
    },
    {
      "cell_type": "markdown",
      "source": [
        "5. 팩토리얼 계산: 사용자로부터 숫자를 입력받아 팩토리얼을 계산하여 반환하는 함수를 작성하세요."
      ],
      "metadata": {
        "id": "4cj4viGNHGji"
      }
    },
    {
      "source": [
        "def 팩토리얼_계산():\n",
        "  숫자 = int(input(\"숫자를 입력하세요: \"))\n",
        "  # 팩토리얼 계산 로직 작성\n",
        "  # ...\n",
        "  return 팩토리얼값\n",
        "\n",
        "check_answer(팩토리얼_계산, 120, \"5를 입력하면 120이 반환되어야 합니다.\")"
      ],
      "cell_type": "code",
      "metadata": {
        "id": "x9tPZSEUGpxV"
      },
      "execution_count": null,
      "outputs": []
    },
    {
      "cell_type": "markdown",
      "source": [
        "6. 문자열 뒤집기: 문자열을 입력받아 뒤집은 문자열을 반환하는 함수를 작성하세요."
      ],
      "metadata": {
        "id": "8IAgFB9MHJdS"
      }
    },
    {
      "source": [
        "def 문자열_뒤집기(문자열):\n",
        "  # 문자열 뒤집기 로직 작성\n",
        "  # ...\n",
        "  return 뒤집힌_문자열\n",
        "\n",
        "check_answer(lambda: 문자열_뒤집기(\"hello\"), \"olleh\", \"문자열 슬라이싱을 활용하세요.\")"
      ],
      "cell_type": "code",
      "metadata": {
        "id": "fgjP3uHkGqH9"
      },
      "execution_count": null,
      "outputs": []
    },
    {
      "cell_type": "markdown",
      "source": [
        "7. 소수 판별: 숫자를 입력받아 소수인지 판별하는 함수를 작성하세요."
      ],
      "metadata": {
        "id": "BaTcKTkDHM1O"
      }
    },
    {
      "source": [
        "def 소수_판별(숫자):\n",
        "  # 소수 판별 로직 작성\n",
        "  # ...\n",
        "  return 소수_여부\n",
        "\n",
        "check_answer(lambda: 소수_판별(7), True, \"2부터 입력받은 숫자까지 나누어 떨어지는지 확인하세요.\")"
      ],
      "cell_type": "code",
      "metadata": {
        "id": "MzAf_gtlGqhR"
      },
      "execution_count": null,
      "outputs": []
    },
    {
      "cell_type": "markdown",
      "source": [
        "8. 피보나치 수열: 사용자로부터 숫자를 입력받아 해당 숫자까지의 피보나치 수열을 출력하는 함수를 작성하세요."
      ],
      "metadata": {
        "id": "s6-mtRmZHegS"
      }
    },
    {
      "source": [
        "def 피보나치_수열():\n",
        "  숫자 = int(input(\"숫자를 입력하세요: \"))\n",
        "  # 피보나치 수열 출력 로직 작성\n",
        "  # ...\n",
        "  return None\n",
        "\n",
        "check_answer(피보나치_수열, None, \"피보나치 수열의 규칙을 이용하여 출력하세요.\")"
      ],
      "cell_type": "code",
      "metadata": {
        "id": "OD_CcS9_Gq_V"
      },
      "execution_count": null,
      "outputs": []
    },
    {
      "cell_type": "markdown",
      "source": [
        "9. 파일 읽고 쓰기: 텍스트 파일을 읽어서 내용을 출력하고, 새로운 텍스트 파일을 생성하여 내용을 쓰는 함수를 작성하세요."
      ],
      "metadata": {
        "id": "fmi7-1rNHhE0"
      }
    },
    {
      "source": [
        "def 파일_읽고_쓰기():\n",
        "  # 파일 읽기\n",
        "  with open(\"input.txt\", \"r\") as f:\n",
        "    내용 = f.read()\n",
        "    print(내용)\n",
        "\n",
        "  # 파일 쓰기\n",
        "  새로운_내용 = \"새로운 파일 내용\"\n",
        "  with open(\"output.txt\", \"w\") as f:\n",
        "    f.write(새로운_내용)\n",
        "\n",
        "  return None\n",
        "\n",
        "check_answer(파일_읽고_쓰기, None, \"input.txt 파일을 읽고 output.txt 파일을 생성하세요.\")"
      ],
      "cell_type": "code",
      "metadata": {
        "id": "yOZn4ip1GwEh"
      },
      "execution_count": null,
      "outputs": []
    },
    {
      "cell_type": "markdown",
      "source": [
        "10. 데이터 분석: pandas를 이용하여 CSV 파일을 읽어들여 기본적인 통계 정보(평균, 최댓값, 최솟값 등)를 출력하는 함수를 작성하세요."
      ],
      "metadata": {
        "id": "aPjQugNrHlf5"
      }
    },
    {
      "source": [
        "def 데이터_분석():\n",
        "  df = pd.read_csv(\"data.csv\")  # data.csv 파일이 존재한다고 가정\n",
        "  print(df.describe())\n",
        "  return None\n",
        "\n",
        "check_answer(데이터_분석, None, \"pandas를 이용하여 데이터를 읽고 통계 정보를 출력하세요.\")"
      ],
      "cell_type": "code",
      "metadata": {
        "id": "iZH95_m6Gwg1"
      },
      "execution_count": null,
      "outputs": []
    }
  ],
  "metadata": {
    "colab": {
      "provenance": [],
      "include_colab_link": true
    },
    "kernelspec": {
      "name": "python3",
      "display_name": "Python 3"
    },
    "language_info": {
      "name": "python"
    }
  },
  "nbformat": 4,
  "nbformat_minor": 0
}
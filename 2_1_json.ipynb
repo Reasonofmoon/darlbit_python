{
  "cells": [
    {
      "cell_type": "markdown",
      "metadata": {
        "id": "view-in-github",
        "colab_type": "text"
      },
      "source": [
        "<a href=\"https://colab.research.google.com/github/Reasonofmoon/darlbit_python/blob/main/2_1_json.ipynb\" target=\"_parent\"><img src=\"https://colab.research.google.com/assets/colab-badge.svg\" alt=\"Open In Colab\"/></a>"
      ]
    },
    {
      "cell_type": "code",
      "metadata": {
        "id": "NX3aW2sb96LA"
      },
      "source": [
        "# 환경 설정 및 필요한 함수 정의\n",
        "import numpy as np\n",
        "import pandas as pd\n",
        "import matplotlib.pyplot as plt\n",
        "\n",
        "def check_answer(problem_func, correct_answer, feedback, show_answer=False):\n",
        "    user_answer = problem_func()\n",
        "    if user_answer == correct_answer:\n",
        "        print(\"정답입니다! 잘 하셨습니다.\")\n",
        "    else:\n",
        "        print(f\"틀렸습니다. 다시 시도해보세요.\")\n",
        "        print(f\"힌트: {feedback}\")\n",
        "    if show_answer:\n",
        "        print(f\"정답: {correct_answer}\")\n",
        "    return user_answer == correct_answer"
      ],
      "execution_count": null,
      "outputs": []
    },
    {
      "cell_type": "markdown",
      "metadata": {
        "id": "VklPnVJm96LB"
      },
      "source": [
        "# How Python Runs Programs\n",
        "## Introducing the Python Interpreter\n",
        "파이썬 인터프리터에 대해 알아봅시다. 인터프리터는 파이썬 코드를 실행하는 프로그램입니다. 파이썬 코드를 작성하고 인터프리터가 이를 실행하는 과정을 이해해봅시다.\n",
        "### 학습 목표:\n",
        "- 파이썬 인터프리터의 역할과 동작 원리를 이해합니다.\n",
        "- 다양한 방식으로 인터프리터를 실행하는 방법을 익힙니다."
      ]
    },
    {
      "cell_type": "code",
      "metadata": {
        "id": "paVxTaPp96LC"
      },
      "source": [
        "# 예제 코드: 파이썬 인터프리터 실행\n",
        "print(\"Hello, World!\")"
      ],
      "execution_count": null,
      "outputs": []
    },
    {
      "cell_type": "markdown",
      "metadata": {
        "id": "a1plk6Ts96LC"
      },
      "source": [
        "## 실습 문제\n",
        "문제 1: 파이썬 인터프리터를 사용하여 두 수의 합을 출력하는 프로그램을 작성하세요."
      ]
    },
    {
      "cell_type": "code",
      "metadata": {
        "id": "NoFAXXKq96LC"
      },
      "source": [
        "def problem_1():\n",
        "    # 여기에 코드를 작성하세요\n",
        "    a = 5\n",
        "    b = 10\n",
        "    return a + b\n",
        "\n",
        "# 실행 및 테스트\n",
        "check_answer(problem_1, 15, \"a와 b를 더한 결과를 반환하세요.\")"
      ],
      "execution_count": null,
      "outputs": []
    }
  ],
  "metadata": {
    "colab": {
      "provenance": [],
      "include_colab_link": true
    },
    "kernelspec": {
      "name": "python3",
      "display_name": "Python 3"
    },
    "language_info": {
      "name": "python"
    }
  },
  "nbformat": 4,
  "nbformat_minor": 0
}
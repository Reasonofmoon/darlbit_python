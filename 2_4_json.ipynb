{
  "cells": [
    {
      "cell_type": "markdown",
      "metadata": {
        "id": "view-in-github",
        "colab_type": "text"
      },
      "source": [
        "<a href=\"https://colab.research.google.com/github/Reasonofmoon/darlbit_python/blob/main/2_4_json.ipynb\" target=\"_parent\"><img src=\"https://colab.research.google.com/assets/colab-badge.svg\" alt=\"Open In Colab\"/></a>"
      ]
    },
    {
      "cell_type": "code",
      "metadata": {
        "id": "wpoubdDKCO0T"
      },
      "source": [
        "# 환경 설정 및 필요한 함수 정의\n",
        "import numpy as np\n",
        "import pandas as pd\n",
        "import matplotlib.pyplot as plt\n",
        "\n",
        "def check_answer(problem_func, correct_answer, feedback, show_answer=False):\n",
        "    user_answer = problem_func()\n",
        "    if user_answer == correct_answer:\n",
        "        print(\"정답입니다! 잘 하셨습니다.\")\n",
        "    else:\n",
        "        print(f\"틀렸습니다. 다시 시도해보세요.\")\n",
        "        print(f\"힌트: {feedback}\")\n",
        "    if show_answer:\n",
        "        print(f\"정답: {correct_answer}\")\n",
        "    return user_answer == correct_answer"
      ],
      "execution_count": 1,
      "outputs": []
    },
    {
      "cell_type": "markdown",
      "metadata": {
        "id": "LMx2bpPNCO0V"
      },
      "source": [
        "# How Python Runs Programs\n",
        "## Python’s View\n",
        "\n",
        "파이썬의 관점에서 프로그램 실행 과정을 이해해봅시다. 파이썬 인터프리터가 코드를 어떻게 처리하는지 살펴보겠습니다.\n",
        "### 학습 목표:\n",
        "- 파이썬 인터프리터의 내부 동작 방식을 이해합니다.\n",
        "- 파이썬의 메모리 관리와 가비지 컬렉션에 대해 학습합니다."
      ]
    },
    {
      "cell_type": "code",
      "metadata": {
        "colab": {
          "base_uri": "https://localhost:8080/"
        },
        "id": "jZ3inpxhCO0W",
        "outputId": "da80e90e-7d96-4cd7-f47e-e361a9b8259e"
      },
      "source": [
        "# 예제 코드: 메모리 관리\n",
        "import sys\n",
        "\n",
        "a = [1, 2, 3, 4, 5]\n",
        "print(f\"a의 메모리 크기: {sys.getsizeof(a)} bytes\")\n",
        "\n",
        "b = a\n",
        "del a\n",
        "print(f\"b의 메모리 크기: {sys.getsizeof(b)} bytes\")"
      ],
      "execution_count": 2,
      "outputs": [
        {
          "output_type": "stream",
          "name": "stdout",
          "text": [
            "a의 메모리 크기: 104 bytes\n",
            "b의 메모리 크기: 104 bytes\n"
          ]
        }
      ]
    },
    {
      "cell_type": "markdown",
      "metadata": {
        "id": "oAdtokWrCO0W"
      },
      "source": [
        "## 실습 문제\n",
        "\n",
        "문제 1: 두 개의 큰 리스트를 생성하고, 그 리스트들의 메모리 크기를 출력하세요."
      ]
    },
    {
      "cell_type": "code",
      "metadata": {
        "colab": {
          "base_uri": "https://localhost:8080/"
        },
        "id": "3e9hvq8ACO0X",
        "outputId": "16183834-392f-40c6-aad0-655c7b428e97"
      },
      "source": [
        "def problem_1():\n",
        "    import sys\n",
        "\n",
        "    # 여기에 코드를 작성하세요\n",
        "    list1 = list(range(1000000))\n",
        "    list2 = list(range(2000000))\n",
        "\n",
        "    size1 = sys.getsizeof(list1)\n",
        "    size2 = sys.getsizeof(list2)\n",
        "    return size1, size2\n",
        "\n",
        "# 실행 및 테스트\n",
        "check_answer(problem_1, (sys.getsizeof(list(range(1000000))), sys.getsizeof(list(range(2000000)))), \"두 개의 큰 리스트를 생성하고, 그 리스트들의 메모리 크기를 출력하세요.\")"
      ],
      "execution_count": 3,
      "outputs": [
        {
          "output_type": "stream",
          "name": "stdout",
          "text": [
            "정답입니다! 잘 하셨습니다.\n"
          ]
        },
        {
          "output_type": "execute_result",
          "data": {
            "text/plain": [
              "True"
            ]
          },
          "metadata": {},
          "execution_count": 3
        }
      ]
    },
    {
      "cell_type": "code",
      "source": [],
      "metadata": {
        "id": "URYYQPHVCVCT"
      },
      "execution_count": null,
      "outputs": []
    }
  ],
  "metadata": {
    "colab": {
      "provenance": [],
      "include_colab_link": true
    },
    "kernelspec": {
      "name": "python3",
      "display_name": "Python 3"
    },
    "language_info": {
      "name": "python"
    }
  },
  "nbformat": 4,
  "nbformat_minor": 0
}
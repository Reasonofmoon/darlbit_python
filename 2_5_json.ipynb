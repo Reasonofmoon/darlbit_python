{
  "cells": [
    {
      "cell_type": "markdown",
      "metadata": {
        "id": "view-in-github",
        "colab_type": "text"
      },
      "source": [
        "<a href=\"https://colab.research.google.com/github/Reasonofmoon/darlbit_python/blob/main/2_5_json.ipynb\" target=\"_parent\"><img src=\"https://colab.research.google.com/assets/colab-badge.svg\" alt=\"Open In Colab\"/></a>"
      ]
    },
    {
      "cell_type": "code",
      "metadata": {
        "id": "oYcpQhqfCwkx"
      },
      "source": [
        "# 환경 설정 및 필요한 함수 정의\n",
        "import numpy as np\n",
        "import pandas as pd\n",
        "import matplotlib.pyplot as plt\n",
        "\n",
        "def check_answer(problem_func, correct_answer, feedback, show_answer=False):\n",
        "    user_answer = problem_func()\n",
        "    if user_answer == correct_answer:\n",
        "        print(\"정답입니다! 잘 하셨습니다.\")\n",
        "    else:\n",
        "        print(f\"틀렸습니다. 다시 시도해보세요.\")\n",
        "        print(f\"힌트: {feedback}\")\n",
        "    if show_answer:\n",
        "        print(f\"정답: {correct_answer}\")\n",
        "    return user_answer == correct_answer"
      ],
      "execution_count": 1,
      "outputs": []
    },
    {
      "cell_type": "markdown",
      "metadata": {
        "id": "u77LqH6pCwkz"
      },
      "source": [
        "# How Python Runs Programs\n",
        "## Execution Model Variations\n",
        "\n",
        "파이썬의 다양한 실행 모델에 대해 알아봅시다. 파이썬 코드를 실행하는 다양한 방법과 그 차이점을 이해해봅시다.\n",
        "### 학습 목표:\n",
        "- 파이썬의 다양한 실행 모델을 이해합니다.\n",
        "- 각각의 모델이 어떻게 다른지 비교합니다."
      ]
    },
    {
      "cell_type": "code",
      "metadata": {
        "colab": {
          "base_uri": "https://localhost:8080/"
        },
        "id": "F692O7brCwk0",
        "outputId": "eae1eb1e-308a-44f7-ad15-ffea1140bd7a"
      },
      "source": [
        "# 예제 코드: 스크립트 모드 vs 인터랙티브 모드\n",
        "print(\"This is script mode\")"
      ],
      "execution_count": 2,
      "outputs": [
        {
          "output_type": "stream",
          "name": "stdout",
          "text": [
            "This is script mode\n"
          ]
        }
      ]
    },
    {
      "cell_type": "markdown",
      "metadata": {
        "id": "STtIwAFfCwk0"
      },
      "source": [
        "## 실습 문제\n",
        "\n",
        "문제 1: 스크립트 모드와 인터랙티브 모드의 차이점을 설명하는 코드를 작성하세요."
      ]
    },
    {
      "cell_type": "code",
      "metadata": {
        "colab": {
          "base_uri": "https://localhost:8080/"
        },
        "id": "mcBCA-ZqCwk0",
        "outputId": "ad8f114b-44e0-40d1-ff4c-c1f15a85de4b"
      },
      "source": [
        "def problem_1():\n",
        "    # 여기에 코드를 작성하세요\n",
        "    script_mode = \"Script mode: 파일에 코드를 작성하고, 실행하면 전체 코드가 실행됩니다.\"\n",
        "    interactive_mode = \"Interactive mode: 파이썬 쉘에서 한 줄씩 코드를 입력하고, 즉시 결과를 확인할 수 있습니다.\"\n",
        "    return script_mode, interactive_mode\n",
        "\n",
        "# 실행 및 테스트\n",
        "check_answer(problem_1, (\"Script mode: 파일에 코드를 작성하고, 실행하면 전체 코드가 실행됩니다.\", \"Interactive mode: 파이썬 쉘에서 한 줄씩 코드를 입력하고, 즉시 결과를 확인할 수 있습니다.\"), \"스크립트 모드와 인터랙티브 모드의 차이점을 설명하세요.\")"
      ],
      "execution_count": 3,
      "outputs": [
        {
          "output_type": "stream",
          "name": "stdout",
          "text": [
            "정답입니다! 잘 하셨습니다.\n"
          ]
        },
        {
          "output_type": "execute_result",
          "data": {
            "text/plain": [
              "True"
            ]
          },
          "metadata": {},
          "execution_count": 3
        }
      ]
    },
    {
      "cell_type": "code",
      "source": [],
      "metadata": {
        "id": "sk4PWtFiC4WQ"
      },
      "execution_count": null,
      "outputs": []
    }
  ],
  "metadata": {
    "colab": {
      "provenance": [],
      "include_colab_link": true
    },
    "kernelspec": {
      "name": "python3",
      "display_name": "Python 3"
    },
    "language_info": {
      "name": "python"
    }
  },
  "nbformat": 4,
  "nbformat_minor": 0
}